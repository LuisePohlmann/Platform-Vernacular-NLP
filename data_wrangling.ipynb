{
 "cells": [
  {
   "cell_type": "code",
   "execution_count": 3,
   "metadata": {},
   "outputs": [
    {
     "name": "stdout",
     "output_type": "stream",
     "text": [
      "1827\n"
     ]
    }
   ],
   "source": [
    "#clean up data \n",
    "#X\n",
    "import pandas as pd\n",
    "import advertools as adv\n",
    "import emoji\n",
    "import numpy as np\n",
    "\n",
    "df_X = pd.read_csv(\"C:/Users/Lui/Desktop/Leuphana/01_Bachelor Arbeit/Anhang/data_X.csv\", sep=\";\")\n",
    "df_X.dropna(subset=[\"no_of_comments\", \"no_of_likes\"], inplace=True)\n",
    "df_X.reset_index(drop=True, inplace=True)\n",
    "\n",
    "df_X['opinion'] = df_X['opinion'].replace([\"Podcast\", \"interaction\", \"Tipps\"], 'News')\n",
    "df_X['opinion'] = df_X['opinion'].replace(\"Interveiw\", \"Interview\")\n",
    "df_X['opinion'] = df_X['opinion'].replace([\"Cooperation\", \"Advertisement\"], \"Cooperation/ Ad\")\n",
    "df_X['opinion'] = df_X['opinion'].replace([\"Report\", \"Analysis\"], \"Report/ Analysis\")\n",
    "df_X[\"question\"]=df_X[\"question\"].replace(0, False)\n",
    "df_X[\"question\"]=df_X[\"question\"].replace([1,2,3,4], True)\n",
    "df_X['media_type'] = df_X['media_type'].fillna(\"text\")\n",
    "df_X=df_X.rename(columns={\"personal\":\"personalisation\", \"personal1\":\"personal\"})\n",
    "df_X=df_X.drop(['Unnamed: 0'], axis=1)\n",
    "df_X=df_X.drop(['Unnamed: 0.1'],axis=1)\n",
    "df_X=df_X.drop(['Unnamed: 0.1.1'],axis=1)\n",
    "df_X=df_X.drop(['Unnamed: 0.3'],axis=1)\n",
    "df_X=df_X.drop(['Unnamed: 0.2'],axis=1)\n",
    "orig_list=[]\n",
    "def find_emojis(text):\n",
    "    orig_list.append(text)\n",
    "df_X[\"text\"].apply(find_emojis)\n",
    "emoji_dict = adv.extract_emoji(orig_list)  \n",
    "df_X[\"emoji\"]=emoji_dict[\"emoji\"]\n",
    "\n",
    "for i in range(len(df_X)):\n",
    "    if not df_X[\"emoji\"][i]:\n",
    "        df_X.loc[i, \"emoji_count\"]=0\n",
    "    else:\n",
    "        df_X.loc[i, \"emoji_count\"]=1\n",
    "\n",
    "print(len(df_X))\n",
    "df_X.columns\n",
    "\n",
    "df_X.to_csv(\"data_X_final.csv\", sep=\";\")"
   ]
  },
  {
   "cell_type": "code",
   "execution_count": 9,
   "metadata": {},
   "outputs": [
    {
     "name": "stdout",
     "output_type": "stream",
     "text": [
      "439\n"
     ]
    }
   ],
   "source": [
    "df_Insta = pd.read_csv(\"data_Instagram_final.csv\", sep=\";\")\n",
    "df_Insta.dropna(subset=[\"no_of_comments\", \"no_of_likes\"], inplace=True)\n",
    "df_Insta.reset_index(drop=True, inplace=True)\n",
    "\n",
    "df=df_Insta\n",
    "\n",
    "df['opinion'] = df['opinion'].replace([\"Podcast\", \"interaction\", \"Tipps\"], 'News')\n",
    "df['opinion'] = df['opinion'].replace(\"Interveiw\", \"Interview\")\n",
    "df['opinion'] = df['opinion'].replace([\"Cooperation\", \"Advertisement\"], \"Cooperation/ Ad\")\n",
    "df['opinion'] = df['opinion'].replace([\"Report\", \"Analysis\"], \"Report/ Analysis\")\n",
    "df[\"question\"]=df[\"question\"].replace(0, False)\n",
    "df[\"question\"]=df[\"question\"].replace([1,2,3,4], True)\n",
    "df=df.rename(columns={\"personal\":\"personalisation\", \"personal1\":\"personal\"})\n",
    "\n",
    "\n",
    "\n",
    "orig_list=[]\n",
    "def find_emojis(text):\n",
    "    orig_list.append(text)\n",
    "df[\"caption\"].apply(find_emojis)\n",
    "emoji_dict = adv.extract_emoji(orig_list)  \n",
    "df[\"emoji\"]=emoji_dict[\"emoji\"]\n",
    "\n",
    "for i in range(len(df)):\n",
    "    if not df[\"emoji\"][i]:\n",
    "        df.loc[i, \"emoji_count\"]=0\n",
    "    else:\n",
    "        df.loc[i, \"emoji_count\"]=1\n",
    "\n",
    "print(len(df))\n",
    "df.columns\n",
    "df.to_csv(\"data_Instagram_final.csv\", sep=\";\")"
   ]
  },
  {
   "cell_type": "code",
   "execution_count": 7,
   "metadata": {},
   "outputs": [],
   "source": [
    "df_X = pd.read_csv(\"data_X.csv\", sep=\";\")\n",
    "\n",
    "df_X[\"ratio_main_sub\"] = df_X[\"sub_clauses\"]/df_X[\"main_clauses\"]\n",
    "df_X[\"ratio_main\"] = df_X[\"main_clauses\"]/df_X[\"no_of_sentences\"]\n",
    "df_X[\"ratio_sub\"] = df_X[\"sub_clauses\"]/df_X[\"no_of_sentences\"]\n",
    "\n",
    "\n",
    "for i in df_X.index:\n",
    "    if df_X.loc[i, \"main_clauses\"]!=0:\n",
    "        df_X.loc[i, \"ratio_main_sub\"] = df_X.loc[i, \"sub_clauses\"]/df_X.loc[i,\"main_clauses\"]\n",
    "    else:\n",
    "        df_X.loc[i, \"ratio_main_sub\"] = float(\"NaN\")\n",
    "        \n",
    "for i in df_X.index:\n",
    "    if df_X.loc[i, \"ratio_main_sub\"] > 0.1719458264234384:\n",
    "        df_X.loc[i, \"sentence_structure\"] = \"complex\"\n",
    "    else:\n",
    "        df_X.loc[i, \"sentence_structure\"] = \"simple\"\n",
    "\n",
    "\n",
    "df_X.to_csv(\"data_X_final.csv\", sep=\";\")"
   ]
  },
  {
   "cell_type": "code",
   "execution_count": 5,
   "metadata": {},
   "outputs": [],
   "source": [
    "df_Insta = pd.read_csv(\"data_Instagram.csv\", sep=\";\")\n",
    "\n",
    "df_Insta[\"ratio_main_sub\"] = df_Insta[\"sub_clauses\"]/df_Insta[\"main_clauses\"]\n",
    "df_Insta[\"ratio_main\"] = df_Insta[\"main_clauses\"]/df_Insta[\"no_of_sentences\"]\n",
    "df_Insta[\"ratio_sub\"] = df_Insta[\"sub_clauses\"]/df_Insta[\"no_of_sentences\"]\n",
    "\n",
    "for i in df_Insta.index:\n",
    "    if df_Insta.loc[i, \"main_clauses\"]!=0:\n",
    "        df_Insta.loc[i, \"ratio_main_sub\"] = df_Insta.loc[i, \"sub_clauses\"]/df_Insta.loc[i,\"main_clauses\"]\n",
    "    else:\n",
    "        df_Insta.loc[i, \"ratio_main_sub\"] = float(\"NaN\")  \n",
    "\n",
    "for i in df_Insta.index:\n",
    "    if df_Insta.loc[i, \"ratio_main_sub\"] > 0.16487997216090156:\n",
    "        df_Insta.loc[i, \"sentence_structure\"] = \"complex\"\n",
    "    else:\n",
    "        df_Insta.loc[i, \"sentence_structure\"] = \"simple\"\n",
    "\n",
    "df_Insta.to_csv(\"data_Instagram_final.csv\", sep=\";\")"
   ]
  },
  {
   "cell_type": "code",
   "execution_count": 3,
   "metadata": {},
   "outputs": [
    {
     "data": {
      "text/plain": [
       "array([nan, 'negative', 'positive'], dtype=object)"
      ]
     },
     "execution_count": 3,
     "metadata": {},
     "output_type": "execute_result"
    }
   ],
   "source": [
    "import pandas as pd\n",
    "df_Insta = pd.read_csv(\"data_Instagram_final.csv\", sep=\";\")\n",
    "pos_neg=[\"negative\", \"positive\", \"positive\", \"negative\", \"positive\", \"positive\", \"positive\", \"positive\", \"positive\", \"negative\",\n",
    "        \"negative\", \"positive\", \"negative\", \"positive\", \"negative\", \"negative\", \"negative\", \"negative\", \"negative\", \"negative\",\n",
    "        \"negative\", \"positive\", \"positive\", \"negative\", \"negative\", \"negative\", \"negative\", \"negative\", \"negative\", \"negative\",\n",
    "        \"positive\", \"negative\", \"positive\", \"negative\", \"positive\", \"negative\", \"positive\", \"negative\", \"negative\", \"negative\",\n",
    "        \"positive\", \"positive\", \"positive\", \"positive\", \"negative\", \"positive\", \"positive\", \"negative\", \"negative\", \"negative\",\n",
    "        \"negative\", \"negative\", \"positive\", \"negative\", \"positive\"]\n",
    "\n",
    "count=0\n",
    "for i in df_Insta.index:\n",
    "    if df_Insta.loc[i, \"emotional\"]==\"emotionalisation\":\n",
    "        df_Insta.loc[i, \"emotion\"] = pos_neg[count]\n",
    "        count+=1\n",
    "        \n",
    "\n",
    "df_Insta.to_csv(\"data_Instagram_final_with_emotion.csv\", sep=\";\")\n",
    "df_Insta[\"emotion\"].unique()"
   ]
  },
  {
   "cell_type": "code",
   "execution_count": 4,
   "metadata": {},
   "outputs": [
    {
     "data": {
      "text/plain": [
       "array([nan, 'positive', 'negative'], dtype=object)"
      ]
     },
     "execution_count": 4,
     "metadata": {},
     "output_type": "execute_result"
    }
   ],
   "source": [
    "df_X = pd.read_csv(\"data_X_final.csv\", sep=\";\")\n",
    "\n",
    "\n",
    "pos_neg=[\"positive\", \"negative\", \"negative\", \"positive\", \"negative\", \"negative\", \"negative\", \"positive\", \"negative\", \"positive\",\n",
    "        \"negative\", \"positive\", \"positive\", \"positive\", \"negative\", \"negative\", \"positive\", \"negative\", \"negative\", \"negative\", \n",
    "        \"negative\", \"negative\", \"positive\", \"negative\", \"positive\", \"negative\", \"positive\", \"negative\", \"negative\", \"positive\", \n",
    "        \"negative\", \"negative\", \"negative\", \"negative\", \"negative\", \"negative\", \"negative\", \"positive\", \"positive\", \"negative\", \n",
    "        \"positive\", \"negative\", \"negative\", \"negative\", \"negative\", \"negative\", \"positive\", \"negative\", \"positive\", \"negative\",\n",
    "        \"negative\", \"positive\", \"positive\", \"negative\", \"negative\", \"negative\", \"negative\", \"negative\", \"negative\", \"negative\",\n",
    "        \"negative\", \"negative\", \"negative\", \"negative\", \"negative\"]\n",
    "\n",
    "count=0\n",
    "for i in df_X.index:\n",
    "    if df_X.loc[i, \"emotional\"]==\"emotionalisation\":\n",
    "        df_X.loc[i, \"emotion\"] = pos_neg[count]\n",
    "        count+=1\n",
    "        \n",
    "\n",
    "df_X.to_csv(\"data_X_final_with_emotion.csv\", sep=\";\")\n",
    "df_X[\"emotion\"].unique()"
   ]
  },
  {
   "cell_type": "code",
   "execution_count": 5,
   "metadata": {},
   "outputs": [],
   "source": [
    "#create merged_df\n",
    "df_Insta=pd.read_csv(\"data_Instagram_final.csv\", sep=\";\")\n",
    "df_Insta[\"type\"]=\"Instagram\"\n",
    "df_Insta=df_Insta.rename(str.lower, axis='columns')\n",
    "df_X = pd.read_csv(\"data_X_final.csv\", sep=\";\")\n",
    "df_X[\"type\"]=\"X\"\n",
    "df_X=df_X.rename(str.lower, axis='columns')\n",
    "merged_df=pd.concat([df_Insta, df_X], join=\"inner\")\n",
    "merged_df.to_csv(\"C:/Users/Lui/Desktop/Leuphana/01_Bachelor Arbeit/Anhang/merged_df_final.csv\",sep=\";\", encoding=\"utf-8\")"
   ]
  },
  {
   "cell_type": "code",
   "execution_count": null,
   "metadata": {},
   "outputs": [],
   "source": []
  }
 ],
 "metadata": {
  "kernelspec": {
   "display_name": "Python 3",
   "language": "python",
   "name": "python3"
  },
  "language_info": {
   "codemirror_mode": {
    "name": "ipython",
    "version": 3
   },
   "file_extension": ".py",
   "mimetype": "text/x-python",
   "name": "python",
   "nbconvert_exporter": "python",
   "pygments_lexer": "ipython3",
   "version": "3.8.3"
  }
 },
 "nbformat": 4,
 "nbformat_minor": 4
}
